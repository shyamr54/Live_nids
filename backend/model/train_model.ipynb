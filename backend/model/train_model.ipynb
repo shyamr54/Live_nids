{
 "cells": [
  {
   "cell_type": "code",
   "execution_count": 2,
   "metadata": {},
   "outputs": [],
   "source": [
    "import pandas as pd\n",
    "import numpy as np\n",
    "import lightgbm as lgb\n",
    "import shap\n",
    "import joblib\n",
    "from sklearn.model_selection import train_test_split\n",
    "from sklearn.preprocessing import StandardScaler"
   ]
  },
  {
   "cell_type": "code",
   "execution_count": 3,
   "metadata": {},
   "outputs": [],
   "source": [
    "# ✅ Step 1: Reduce Memory Usage\n",
    "def optimize_memory(df):\n",
    "    for col in df.select_dtypes(include=[\"int\", \"float\"]).columns:\n",
    "        df[col] = pd.to_numeric(df[col], downcast=\"float\")\n",
    "    return df\n",
    "\n",
    "# ✅ Step 2: Load CICIDS2017 in Chunks\n",
    "req_cols = [ ' Packet Length Std', ' Total Length of Bwd Packets', ' Subflow Bwd Bytes',\n",
    "' Destination Port', ' Packet Length Variance', ' Bwd Packet Length Mean',' Avg Bwd Segment Size',\n",
    "'Bwd Packet Length Max', ' Init_Win_bytes_backward','Total Length of Fwd Packets',\n",
    "' Subflow Fwd Bytes', 'Init_Win_bytes_forward', ' Average Packet Size', ' Packet Length Mean',\n",
    "' Max Packet Length',' Label']\n",
    "\n",
    "# ✅ Step 2: Load Dataset in Chunks to Prevent MemoryError\n",
    "chunksize = 100000  \n",
    "df_list = []\n",
    "\n",
    "for file in [\n",
    "    \"cicids_db/Wednesday-workingHours.pcap_ISCX.csv\",\n",
    "    \"cicids_db/Tuesday-WorkingHours.pcap_ISCX.csv\",\n",
    "    \"cicids_db/Thursday-WorkingHours-Afternoon-Infilteration.pcap_ISCX.csv\",\n",
    "    \"cicids_db/Monday-WorkingHours.pcap_ISCX.csv\",\n",
    "    \"cicids_db/Friday-WorkingHours-Morning.pcap_ISCX.csv\",\n",
    "    \"cicids_db/Friday-WorkingHours-Afternoon-DDos.pcap_ISCX.csv\",\n",
    "    \"cicids_db/Friday-WorkingHours-Afternoon-PortScan.pcap_ISCX.csv\",\n",
    "]:\n",
    "    for chunk in pd.read_csv(file, usecols=req_cols, chunksize=chunksize, low_memory=False):\n",
    "        chunk = chunk.dropna()\n",
    "        df_list.append(chunk)\n",
    "        if len(df_list) >= 3:  # Limit dataset to avoid memory crash\n",
    "            break\n",
    "\n",
    "df = pd.concat(df_list, ignore_index=True)"
   ]
  },
  {
   "cell_type": "code",
   "execution_count": 5,
   "metadata": {},
   "outputs": [],
   "source": [
    "# ✅ Step 3: Data Preprocessing\n",
    "X = df.drop(columns=[\" Label\"])  \n",
    "y = df[\" Label\"].apply(lambda x: 1 if x != \"BENIGN\" else 0)  \n",
    "\n",
    "scaler = StandardScaler()\n",
    "X = scaler.fit_transform(X)\n",
    "joblib.dump(scaler, \"scaler.pkl\")  # Save scaler\n",
    "\n",
    "X_train, X_test, y_train, y_test = train_test_split(X, y, test_size=0.2, random_state=42)"
   ]
  },
  {
   "cell_type": "code",
   "execution_count": 6,
   "metadata": {},
   "outputs": [
    {
     "name": "stderr",
     "output_type": "stream",
     "text": [
      "c:\\Users\\rathi\\AppData\\Local\\Programs\\Python\\Python39\\lib\\site-packages\\sklearn\\utils\\deprecation.py:151: FutureWarning: 'force_all_finite' was renamed to 'ensure_all_finite' in 1.6 and will be removed in 1.8.\n",
      "  warnings.warn(\n"
     ]
    },
    {
     "name": "stdout",
     "output_type": "stream",
     "text": [
      "[LightGBM] [Info] Number of positive: 243197, number of negative: 476803\n",
      "[LightGBM] [Info] Auto-choosing col-wise multi-threading, the overhead of testing was 0.047418 seconds.\n",
      "You can set `force_col_wise=true` to remove the overhead.\n",
      "[LightGBM] [Info] Total Bins 3816\n",
      "[LightGBM] [Info] Number of data points in the train set: 720000, number of used features: 15\n",
      "[LightGBM] [Info] [binary:BoostFromScore]: pavg=0.337774 -> initscore=-0.673232\n",
      "[LightGBM] [Info] Start training from score -0.673232\n",
      "✅ Model Training Complete & Saved as 'intrusion_lgbm.pkl'\n"
     ]
    }
   ],
   "source": [
    "# ✅ Step 4: Train LightGBM Model (Much Faster than Deep Learning)\n",
    "model = lgb.LGBMClassifier(n_estimators=100, learning_rate=0.1, max_depth=10)\n",
    "model.fit(X_train, y_train)\n",
    "\n",
    "# ✅ Save Model\n",
    "joblib.dump(model, \"intrusion_lgbm.pkl\")\n",
    "print(\"✅ Model Training Complete & Saved as 'intrusion_lgbm.pkl'\")"
   ]
  }
 ],
 "metadata": {
  "kernelspec": {
   "display_name": "Python 3",
   "language": "python",
   "name": "python3"
  },
  "language_info": {
   "codemirror_mode": {
    "name": "ipython",
    "version": 3
   },
   "file_extension": ".py",
   "mimetype": "text/x-python",
   "name": "python",
   "nbconvert_exporter": "python",
   "pygments_lexer": "ipython3",
   "version": "3.9.11"
  }
 },
 "nbformat": 4,
 "nbformat_minor": 2
}
